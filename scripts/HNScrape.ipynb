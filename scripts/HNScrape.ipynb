{
 "metadata": {
  "name": ""
 },
 "nbformat": 3,
 "nbformat_minor": 0,
 "worksheets": [
  {
   "cells": [
    {
     "cell_type": "code",
     "collapsed": false,
     "input": [
      "from __future__ import division\n",
      "\n",
      "import time, argparse, logging, os, os.path\n",
      "from time import time as now \n",
      "from random import random  # For testing - can remove\n",
      "from urlparse import urlparse\n",
      "import os\n",
      "from bs4 import BeautifulSoup\n",
      "import re, requests\n",
      "\n",
      "\n",
      "\n",
      "from selenium import webdriver\n",
      "from selenium.webdriver.support.wait import WebDriverWait\n",
      "CHROME=webdriver.common.desired_capabilities.DesiredCapabilities.CHROME\n",
      "PHANTOMJS={'platform':'ANY', 'browserName':'phantomjs', 'javascriptEnabled':True}\n",
      "REMOTE_HUB='http://localhost:4445/wd/hub'\n",
      "\n",
      "\n",
      "import json, time\n",
      "from pprint import pprint\n",
      "\n",
      "# StationNames data (below - code folded)\n",
      "stationNames=json.loads('[{\"Station_Name\":\"LONDON/HEATHROW AIR\",\"CTRY\":\"UK\",\"STATE\":\"NaN\",\"ShortName\":\"London\",\"USAF\":\"037720\",\"WBAN\":\"99999\",\"Station_Name_dropdown\":\"UK - London/Heathrow Air\"},{\"Station_Name\":\"DUBLIN AIRPORT\",\"CTRY\":\"IE\",\"STATE\":\"NaN\",\"ShortName\":\"Dublin\",\"USAF\":\"039690\",\"WBAN\":\"99999\",\"Station_Name_dropdown\":\"IE - Dublin Airport\"},{\"Station_Name\":\"AMSTERDAM AP SCHIPH\",\"CTRY\":\"NL\",\"STATE\":\"NaN\",\"ShortName\":\"Amsterdam\",\"USAF\":\"062400\",\"WBAN\":\"99999\",\"Station_Name_dropdown\":\"NL - Amsterdam Ap Schiph\"},{\"Station_Name\":\"ZURICH-KLOTEN\",\"CTRY\":\"SW\",\"STATE\":\"NaN\",\"ShortName\":\"Zurich\",\"USAF\":\"066700\",\"WBAN\":\"99999\",\"Station_Name_dropdown\":\"SW - Zurich-Kloten\"},{\"Station_Name\":\"GENEVE-COINTRIN\",\"CTRY\":\"SW\",\"STATE\":\"NaN\",\"ShortName\":\"Geneve\",\"USAF\":\"067000\",\"WBAN\":\"99999\",\"Station_Name_dropdown\":\"SW - Geneve-Cointrin\"},{\"Station_Name\":\"PARIS-MONTSOURIS\",\"CTRY\":\"FR\",\"STATE\":\"NaN\",\"ShortName\":\"Paris\",\"USAF\":\"071560\",\"WBAN\":\"99999\",\"Station_Name_dropdown\":\"FR - Paris-Montsouris\"},{\"Station_Name\":\"BARCELONA/AEROPUERT\",\"CTRY\":\"SP\",\"STATE\":\"NaN\",\"ShortName\":\"Barcelona\",\"USAF\":\"081810\",\"WBAN\":\"99999\",\"Station_Name_dropdown\":\"SP - Barcelona/Aeropuert\"},{\"Station_Name\":\"MILANO/MALPENSA\",\"CTRY\":\"IY\",\"STATE\":\"NaN\",\"ShortName\":\"Milano\",\"USAF\":\"160660\",\"WBAN\":\"99999\",\"Station_Name_dropdown\":\"IY - Milano/Malpensa\"},{\"Station_Name\":\"VENEZIA/TESSERA\",\"CTRY\":\"IY\",\"STATE\":\"NaN\",\"ShortName\":\"Venezia\",\"USAF\":\"161050\",\"WBAN\":\"99999\",\"Station_Name_dropdown\":\"IY - Venezia/Tessera\"},{\"Station_Name\":\"ROMA FIUMICINO\",\"CTRY\":\"IY\",\"STATE\":\"NaN\",\"ShortName\":\"Roma\",\"USAF\":\"162420\",\"WBAN\":\"99999\",\"Station_Name_dropdown\":\"IY - Roma Fiumicino\"},{\"Station_Name\":\"ISTANBUL/ATATURK\",\"CTRY\":\"TU\",\"STATE\":\"NaN\",\"ShortName\":\"Istanbul\",\"USAF\":\"170600\",\"WBAN\":\"99999\",\"Station_Name_dropdown\":\"TU - Istanbul/Ataturk\"},{\"Station_Name\":\"MOSKVA\",\"CTRY\":\"RS\",\"STATE\":\"NaN\",\"ShortName\":\"Moskva\",\"USAF\":\"276120\",\"WBAN\":\"99999\",\"Station_Name_dropdown\":\"RS - Moskva\"},{\"Station_Name\":\"BEN-GURION INT. AIR\",\"CTRY\":\"IS\",\"STATE\":\"NaN\",\"ShortName\":\"Ben-Gurion\",\"USAF\":\"401800\",\"WBAN\":\"99999\",\"Station_Name_dropdown\":\"IS - Ben-Gurion Int. Air\"},{\"Station_Name\":\"TEHRAN-MEHRABAD\",\"CTRY\":\"IR\",\"STATE\":\"NaN\",\"ShortName\":\"Tehran\",\"USAF\":\"407540\",\"WBAN\":\"99999\",\"Station_Name_dropdown\":\"IR - Tehran-Mehrabad\"},{\"Station_Name\":\"DUBAI INTERNATIONAL\",\"CTRY\":\"ER\",\"STATE\":\"NaN\",\"ShortName\":\"Dubai\",\"USAF\":\"411940\",\"WBAN\":\"99999\",\"Station_Name_dropdown\":\"ER - Dubai International\"},{\"Station_Name\":\"KARACHI AIRPORT\",\"CTRY\":\"PK\",\"STATE\":\"NaN\",\"ShortName\":\"Karachi\",\"USAF\":\"417800\",\"WBAN\":\"99999\",\"Station_Name_dropdown\":\"PK - Karachi Airport\"},{\"Station_Name\":\"BANGALORE\",\"CTRY\":\"IN\",\"STATE\":\"NaN\",\"ShortName\":\"Bangalore\",\"USAF\":\"432950\",\"WBAN\":\"99999\",\"Station_Name_dropdown\":\"IN - Bangalore\"},{\"Station_Name\":\"HONG KONG INTERNATI\",\"CTRY\":\"CI\",\"STATE\":\"NaN\",\"ShortName\":\"Hong-Kong\",\"USAF\":\"450070\",\"WBAN\":\"99999\",\"Station_Name_dropdown\":\"CI - Hong Kong Internati\"},{\"Station_Name\":\"SUNGSHAN/TAIPEI\",\"CTRY\":\"TW\",\"STATE\":\"NaN\",\"ShortName\":\"Sungshan\",\"USAF\":\"466960\",\"WBAN\":\"99999\",\"Station_Name_dropdown\":\"TW - Sungshan/Taipei\"},{\"Station_Name\":\"SEOUL\",\"CTRY\":\"KO\",\"STATE\":\"NaN\",\"ShortName\":\"Seoul\",\"USAF\":\"471080\",\"WBAN\":\"99999\",\"Station_Name_dropdown\":\"KO - Seoul\"},{\"Station_Name\":\"TOKYO\",\"CTRY\":\"JP\",\"STATE\":\"NaN\",\"ShortName\":\"Tokyo\",\"USAF\":\"476620\",\"WBAN\":\"99999\",\"Station_Name_dropdown\":\"JP - Tokyo\"},{\"Station_Name\":\"OSAKA\",\"CTRY\":\"JP\",\"STATE\":\"NaN\",\"ShortName\":\"Osaka\",\"USAF\":\"477720\",\"WBAN\":\"99999\",\"Station_Name_dropdown\":\"JP - Osaka\"},{\"Station_Name\":\"BANGKOK METROPOLIS\",\"CTRY\":\"TH\",\"STATE\":\"NaN\",\"ShortName\":\"Bangkok\",\"USAF\":\"484550\",\"WBAN\":\"99999\",\"Station_Name_dropdown\":\"TH - Bangkok Metropolis\"},{\"Station_Name\":\"KUALA LUMPUR SUBANG\",\"CTRY\":\"MS\",\"STATE\":\"NaN\",\"ShortName\":\"Kuala-Lumpur\",\"USAF\":\"486470\",\"WBAN\":\"99999\",\"Station_Name_dropdown\":\"MS - Kuala Lumpur Subang\"},{\"Station_Name\":\"SINGAPORE/CHANGI AI\",\"CTRY\":\"SR\",\"STATE\":\"NaN\",\"ShortName\":\"Singapore\",\"USAF\":\"486980\",\"WBAN\":\"99999\",\"Station_Name_dropdown\":\"SR - Singapore/Changi Ai\"},{\"Station_Name\":\"BEIJING\",\"CTRY\":\"CI\",\"STATE\":\"NaN\",\"ShortName\":\"Beijing\",\"USAF\":\"545110\",\"WBAN\":\"99999\",\"Station_Name_dropdown\":\"CI - Beijing\"},{\"Station_Name\":\"CHONGQING\",\"CTRY\":\"CI\",\"STATE\":\"NaN\",\"ShortName\":\"Chongqing\",\"USAF\":\"575160\",\"WBAN\":\"99999\",\"Station_Name_dropdown\":\"CI - Chongqing\"},{\"Station_Name\":\"SHANGHAI/HONGQIAO\",\"CTRY\":\"CI\",\"STATE\":\"NaN\",\"ShortName\":\"Shanghai\",\"USAF\":\"583670\",\"WBAN\":\"99999\",\"Station_Name_dropdown\":\"CI - Shanghai/Hongqiao\"},{\"Station_Name\":\"GUANGZHOU\",\"CTRY\":\"CI\",\"STATE\":\"NaN\",\"ShortName\":\"Guangzhou\",\"USAF\":\"592870\",\"WBAN\":\"99999\",\"Station_Name_dropdown\":\"CI - Guangzhou\"},{\"Station_Name\":\"SHENZHEN\",\"CTRY\":\"CI\",\"STATE\":\"NaN\",\"ShortName\":\"Shenzhen\",\"USAF\":\"594930\",\"WBAN\":\"99999\",\"Station_Name_dropdown\":\"CI - Shenzhen\"},{\"Station_Name\":\"CAIRO AIRPORT\",\"CTRY\":\"EG\",\"STATE\":\"NaN\",\"ShortName\":\"Cairo\",\"USAF\":\"623660\",\"WBAN\":\"99999\",\"Station_Name_dropdown\":\"EG - Cairo Airport\"},{\"Station_Name\":\"MOMBASA\",\"CTRY\":\"KN\",\"STATE\":\"NaN\",\"ShortName\":\"Mombasa\",\"USAF\":\"638200\",\"WBAN\":\"99999\",\"Station_Name_dropdown\":\"KN - Mombasa\"},{\"Station_Name\":\"JOHANNESBURG INTNL.\",\"CTRY\":\"ZA\",\"STATE\":\"NaN\",\"ShortName\":\"Johannesburg\",\"USAF\":\"683680\",\"WBAN\":\"99999\",\"Station_Name_dropdown\":\"ZA - Johannesburg Intnl.\"},{\"Station_Name\":\"BARROW/W. POST W. R\",\"CTRY\":\"US\",\"STATE\":\"AK\",\"ShortName\":\"Barrow\",\"USAF\":\"700260\",\"WBAN\":\"27502\",\"Station_Name_dropdown\":\"AK - Barrow/W. Post W. R\"},{\"Station_Name\":\"ANCHORAGE INTL ARPT\",\"CTRY\":\"US\",\"STATE\":\"AK\",\"ShortName\":\"Anchorage\",\"USAF\":\"702730\",\"WBAN\":\"26451\",\"Station_Name_dropdown\":\"AK - Anchorage Intl Arpt\"},{\"Station_Name\":\"JUNEAU\",\"CTRY\":\"US\",\"STATE\":\"AK\",\"ShortName\":\"Juneau\",\"USAF\":\"703810\",\"WBAN\":\"25309\",\"Station_Name_dropdown\":\"AK - Juneau\"},{\"Station_Name\":\"ANNETTE ISLAND\",\"CTRY\":\"US\",\"STATE\":\"AK\",\"ShortName\":\"Annette-Island\",\"USAF\":\"703980\",\"WBAN\":\"25308\",\"Station_Name_dropdown\":\"AK - Annette Island\"},{\"Station_Name\":\"ADAK (NAS)\",\"CTRY\":\"US\",\"STATE\":\"AK\",\"ShortName\":\"Adak\",\"USAF\":\"704540\",\"WBAN\":\"25704\",\"Station_Name_dropdown\":\"AK - Adak (Nas)\"},{\"Station_Name\":\"VANCOUVER HARBOUR C\",\"CTRY\":\"CN\",\"STATE\":\"BC\",\"ShortName\":\"Vancouver\",\"USAF\":\"712010\",\"WBAN\":\"99999\",\"Station_Name_dropdown\":\"CN - Vancouver Harbour C\"},{\"Station_Name\":\"TORONTO CITY CENTRE\",\"CTRY\":\"CN\",\"STATE\":\"ON\",\"ShortName\":\"Toronto\",\"USAF\":\"712650\",\"WBAN\":\"99999\",\"Station_Name_dropdown\":\"CN - Toronto City Centre\"},{\"Station_Name\":\"MONTREAL INTL MIRAB\",\"CTRY\":\"CN\",\"STATE\":\"QC\",\"ShortName\":\"Montreal\",\"USAF\":\"719050\",\"WBAN\":\"99999\",\"Station_Name_dropdown\":\"CN - Montreal Intl Mirab\"},{\"Station_Name\":\"KEY WEST/INT.\",\"CTRY\":\"US\",\"STATE\":\"FL\",\"ShortName\":\"Key-West\",\"USAF\":\"722010\",\"WBAN\":\"12836\",\"Station_Name_dropdown\":\"FL - Key West/Int.\"},{\"Station_Name\":\"MIAMI\",\"CTRY\":\"US\",\"STATE\":\"FL\",\"ShortName\":\"Miami\",\"USAF\":\"722020\",\"WBAN\":\"12839\",\"Station_Name_dropdown\":\"FL - Miami\"},{\"Station_Name\":\"ORLANDO/JETPORT\",\"CTRY\":\"US\",\"STATE\":\"FL\",\"ShortName\":\"Orlando\",\"USAF\":\"722050\",\"WBAN\":\"12815\",\"Station_Name_dropdown\":\"FL - Orlando/Jetport\"},{\"Station_Name\":\"JACKSONVILLE/INTNL.\",\"CTRY\":\"US\",\"STATE\":\"FL\",\"ShortName\":\"Jacksonville\",\"USAF\":\"722060\",\"WBAN\":\"13889\",\"Station_Name_dropdown\":\"FL - Jacksonville/Intnl.\"},{\"Station_Name\":\"CHARLESTON MUNI\",\"CTRY\":\"US\",\"STATE\":\"SC\",\"ShortName\":\"Charleston\",\"USAF\":\"722080\",\"WBAN\":\"13880\",\"Station_Name_dropdown\":\"SC - Charleston Muni\"},{\"Station_Name\":\"ST PETERSBURG CLEAR\",\"CTRY\":\"US\",\"STATE\":\"FL\",\"ShortName\":\"St-Petersburg\",\"USAF\":\"722116\",\"WBAN\":\"99999\",\"Station_Name_dropdown\":\"FL - St Petersburg Clear\"},{\"Station_Name\":\"ATLANTA MUNICICPAL\",\"CTRY\":\"US\",\"STATE\":\"GA\",\"ShortName\":\"Atlanta\",\"USAF\":\"722190\",\"WBAN\":\"13874\",\"Station_Name_dropdown\":\"GA - Atlanta Municicpal\"},{\"Station_Name\":\"BIRMINGHAM MUNI\",\"CTRY\":\"US\",\"STATE\":\"AL\",\"ShortName\":\"Birmingham\",\"USAF\":\"722280\",\"WBAN\":\"13876\",\"Station_Name_dropdown\":\"AL - Birmingham Muni\"},{\"Station_Name\":\"NEW ORLEANS NAS JRB\",\"CTRY\":\"US\",\"STATE\":\"LA\",\"ShortName\":\"New-Orleans\",\"USAF\":\"722316\",\"WBAN\":\"12958\",\"Station_Name_dropdown\":\"LA - New Orleans Nas Jrb\"},{\"Station_Name\":\"BATON ROUGE METRO R\",\"CTRY\":\"US\",\"STATE\":\"LA\",\"ShortName\":\"Baton-Rouge\",\"USAF\":\"722317\",\"WBAN\":\"13970\",\"Station_Name_dropdown\":\"LA - Baton Rouge Metro R\"},{\"Station_Name\":\"HOUSTON/INTERCONTIN\",\"CTRY\":\"US\",\"STATE\":\"TX\",\"ShortName\":\"Houston\",\"USAF\":\"722430\",\"WBAN\":\"12960\",\"Station_Name_dropdown\":\"TX - Houston/Intercontin\"},{\"Station_Name\":\"CORPUS CHRISTE NAS\",\"CTRY\":\"US\",\"STATE\":\"TX\",\"ShortName\":\"Corpus-Christe\",\"USAF\":\"722515\",\"WBAN\":\"12926\",\"Station_Name_dropdown\":\"TX - Corpus Christe Nas\"},{\"Station_Name\":\"SAN ANTONIO INTL\",\"CTRY\":\"US\",\"STATE\":\"TX\",\"ShortName\":\"San-Antonio\",\"USAF\":\"722530\",\"WBAN\":\"12921\",\"Station_Name_dropdown\":\"TX - San Antonio Intl\"},{\"Station_Name\":\"DALLAS-FORT WORTH/F\",\"CTRY\":\"US\",\"STATE\":\"TX\",\"ShortName\":\"Dallas\",\"USAF\":\"722590\",\"WBAN\":\"03927\",\"Station_Name_dropdown\":\"TX - Dallas-Fort Worth/F\"},{\"Station_Name\":\"LUBBOCK/LUBBOCK INT\",\"CTRY\":\"US\",\"STATE\":\"TX\",\"ShortName\":\"Lubbock\",\"USAF\":\"722670\",\"WBAN\":\"23042\",\"Station_Name_dropdown\":\"TX - Lubbock/Lubbock Int\"},{\"Station_Name\":\"EL PASO INTL ARPT\",\"CTRY\":\"US\",\"STATE\":\"TX\",\"ShortName\":\"El-Paso\",\"USAF\":\"722700\",\"WBAN\":\"23044\",\"Station_Name_dropdown\":\"TX - El Paso Intl Arpt\"},{\"Station_Name\":\"TUCSON INTL\",\"CTRY\":\"US\",\"STATE\":\"AZ\",\"ShortName\":\"Tucson\",\"USAF\":\"722740\",\"WBAN\":\"23160\",\"Station_Name_dropdown\":\"AZ - Tucson Intl\"},{\"Station_Name\":\"PHOENIX/SKY HARBOR\",\"CTRY\":\"US\",\"STATE\":\"AZ\",\"ShortName\":\"Phoenix\",\"USAF\":\"722780\",\"WBAN\":\"23183\",\"Station_Name_dropdown\":\"AZ - Phoenix/Sky Harbor\"},{\"Station_Name\":\"RIVERSIDE/MARCH AFB\",\"CTRY\":\"US\",\"STATE\":\"CA\",\"ShortName\":\"Riverside\",\"USAF\":\"722860\",\"WBAN\":\"23119\",\"Station_Name_dropdown\":\"CA - Riverside/March Afb\"},{\"Station_Name\":\"SAN DIEGO/LINDBERGH\",\"CTRY\":\"US\",\"STATE\":\"CA\",\"ShortName\":\"San-Diego\",\"USAF\":\"722900\",\"WBAN\":\"23188\",\"Station_Name_dropdown\":\"CA - San Diego/Lindbergh\"},{\"Station_Name\":\"LOS ANGELES INTL\",\"CTRY\":\"US\",\"STATE\":\"CA\",\"ShortName\":\"Los-Angeles\",\"USAF\":\"722950\",\"WBAN\":\"23174\",\"Station_Name_dropdown\":\"CA - Los Angeles Intl\"},{\"Station_Name\":\"LONG BEACH/LB AIRP.\",\"CTRY\":\"US\",\"STATE\":\"CA\",\"ShortName\":\"Long-Beach\",\"USAF\":\"722970\",\"WBAN\":\"23129\",\"Station_Name_dropdown\":\"CA - Long Beach/Lb Airp.\"},{\"Station_Name\":\"RALEIGH/RALEIGH-DUR\",\"CTRY\":\"US\",\"STATE\":\"NC\",\"ShortName\":\"Raleigh\",\"USAF\":\"723060\",\"WBAN\":\"13722\",\"Station_Name_dropdown\":\"NC - Raleigh/Raleigh-Dur\"},{\"Station_Name\":\"NORFOLK INTL ARPT\",\"CTRY\":\"US\",\"STATE\":\"VA\",\"ShortName\":\"Norfolk\",\"USAF\":\"723080\",\"WBAN\":\"13737\",\"Station_Name_dropdown\":\"VA - Norfolk Intl Arpt\"},{\"Station_Name\":\"CHARLOTTE/DOUGLAS\",\"CTRY\":\"US\",\"STATE\":\"NC\",\"ShortName\":\"Charlotte\",\"USAF\":\"723140\",\"WBAN\":\"13881\",\"Station_Name_dropdown\":\"NC - Charlotte/Douglas\"},{\"Station_Name\":\"GREENSBORO/G.-HIGH\",\"CTRY\":\"US\",\"STATE\":\"NC\",\"ShortName\":\"Greensboro\",\"USAF\":\"723170\",\"WBAN\":\"13723\",\"Station_Name_dropdown\":\"NC - Greensboro/G.-High\"},{\"Station_Name\":\"NASHVILLE/METROPOLI\",\"CTRY\":\"US\",\"STATE\":\"TN\",\"ShortName\":\"Nashville\",\"USAF\":\"723270\",\"WBAN\":\"13897\",\"Station_Name_dropdown\":\"TN - Nashville/Metropoli\"},{\"Station_Name\":\"MEMPHIS INTL ARPT\",\"CTRY\":\"US\",\"STATE\":\"TN\",\"ShortName\":\"Memphis\",\"USAF\":\"723340\",\"WBAN\":\"13893\",\"Station_Name_dropdown\":\"TN - Memphis Intl Arpt\"},{\"Station_Name\":\"OKLAHOMA CITY/W. RO\",\"CTRY\":\"US\",\"STATE\":\"OK\",\"ShortName\":\"Oklahoma-City\",\"USAF\":\"723530\",\"WBAN\":\"13967\",\"Station_Name_dropdown\":\"OK - Oklahoma City/W. Ro\"},{\"Station_Name\":\"TULSA INTL ARPT(AW)\",\"CTRY\":\"US\",\"STATE\":\"OK\",\"ShortName\":\"Tulsa\",\"USAF\":\"723560\",\"WBAN\":\"13968\",\"Station_Name_dropdown\":\"OK - Tulsa Intl Arpt(Aw)\"},{\"Station_Name\":\"ALBUQUERQUE INTL\",\"CTRY\":\"US\",\"STATE\":\"NM\",\"ShortName\":\"Albuquerque\",\"USAF\":\"723650\",\"WBAN\":\"23050\",\"Station_Name_dropdown\":\"NM - Albuquerque Intl\"},{\"Station_Name\":\"BAKERSFIELD/MEADOWS\",\"CTRY\":\"US\",\"STATE\":\"CA\",\"ShortName\":\"Bakersfield\",\"USAF\":\"723840\",\"WBAN\":\"23155\",\"Station_Name_dropdown\":\"CA - Bakersfield/Meadows\"},{\"Station_Name\":\"LAS VEGAS/MCCARRAN\",\"CTRY\":\"US\",\"STATE\":\"NV\",\"ShortName\":\"Las-Vegas\",\"USAF\":\"723860\",\"WBAN\":\"23169\",\"Station_Name_dropdown\":\"NV - Las Vegas/Mccarran\"},{\"Station_Name\":\"FRESNO AIR TERMINAL\",\"CTRY\":\"US\",\"STATE\":\"CA\",\"ShortName\":\"Fresno\",\"USAF\":\"723890\",\"WBAN\":\"93193\",\"Station_Name_dropdown\":\"CA - Fresno Air Terminal\"},{\"Station_Name\":\"WASHINGTON/DULLES\",\"CTRY\":\"US\",\"STATE\":\"VA\",\"ShortName\":\"Washington\",\"USAF\":\"724030\",\"WBAN\":\"93738\",\"Station_Name_dropdown\":\"VA - Washington/Dulles\"},{\"Station_Name\":\"BALTIMORE-WASHINGTO\",\"CTRY\":\"US\",\"STATE\":\"MD\",\"ShortName\":\"Baltimore\",\"USAF\":\"724060\",\"WBAN\":\"93721\",\"Station_Name_dropdown\":\"MD - Baltimore-Washingto\"},{\"Station_Name\":\"PHILADELPHIA INTL\",\"CTRY\":\"US\",\"STATE\":\"PA\",\"ShortName\":\"Philadelphia\",\"USAF\":\"724080\",\"WBAN\":\"13739\",\"Station_Name_dropdown\":\"PA - Philadelphia Intl\"},{\"Station_Name\":\"LEXINGTON/BLUE GRAS\",\"CTRY\":\"US\",\"STATE\":\"KY\",\"ShortName\":\"Lexington\",\"USAF\":\"724220\",\"WBAN\":\"93820\",\"Station_Name_dropdown\":\"KY - Lexington/Blue Gras\"},{\"Station_Name\":\"LOUISVILLE/STANDIFO\",\"CTRY\":\"US\",\"STATE\":\"KY\",\"ShortName\":\"Louisville\",\"USAF\":\"724230\",\"WBAN\":\"93821\",\"Station_Name_dropdown\":\"KY - Louisville/Standifo\"},{\"Station_Name\":\"COLUMBUS/PORT COLUM\",\"CTRY\":\"US\",\"STATE\":\"OH\",\"ShortName\":\"Columbus\",\"USAF\":\"724280\",\"WBAN\":\"14821\",\"Station_Name_dropdown\":\"OH - Columbus/Port Colum\"},{\"Station_Name\":\"CINCINNATI MUNI LUN\",\"CTRY\":\"US\",\"STATE\":\"OH\",\"ShortName\":\"Cincinnati\",\"USAF\":\"724297\",\"WBAN\":\"93812\",\"Station_Name_dropdown\":\"OH - Cincinnati Muni Lun\"},{\"Station_Name\":\"INDIANAPOLIS/I.-MUN\",\"CTRY\":\"US\",\"STATE\":\"IN\",\"ShortName\":\"Indianapolis\",\"USAF\":\"724380\",\"WBAN\":\"93819\",\"Station_Name_dropdown\":\"IN - Indianapolis/I.-Mun\"},{\"Station_Name\":\"KANSAS CITY INTL\",\"CTRY\":\"US\",\"STATE\":\"MO\",\"ShortName\":\"Kansas-City\",\"USAF\":\"724460\",\"WBAN\":\"03947\",\"Station_Name_dropdown\":\"MO - Kansas City Intl\"},{\"Station_Name\":\"WICHITA/MID-CONTINE\",\"CTRY\":\"US\",\"STATE\":\"KS\",\"ShortName\":\"Wichita\",\"USAF\":\"724500\",\"WBAN\":\"03928\",\"Station_Name_dropdown\":\"KS - Wichita/Mid-Contine\"},{\"Station_Name\":\"COLORADO SPRINGS/MU\",\"CTRY\":\"US\",\"STATE\":\"CO\",\"ShortName\":\"Colorado-Springs\",\"USAF\":\"724660\",\"WBAN\":\"93037\",\"Station_Name_dropdown\":\"CO - Colorado Springs/Mu\"},{\"Station_Name\":\"SACRAMENTO INTL\",\"CTRY\":\"US\",\"STATE\":\"CA\",\"ShortName\":\"Sacramento\",\"USAF\":\"724839\",\"WBAN\":\"93225\",\"Station_Name_dropdown\":\"CA - Sacramento Intl\"},{\"Station_Name\":\"RENO/CANNON INTL\",\"CTRY\":\"US\",\"STATE\":\"NV\",\"ShortName\":\"Reno\",\"USAF\":\"724880\",\"WBAN\":\"23185\",\"Station_Name_dropdown\":\"NV - Reno/Cannon Intl\"},{\"Station_Name\":\"STOCKTON/METROPOLIT\",\"CTRY\":\"US\",\"STATE\":\"CA\",\"ShortName\":\"Stockton\",\"USAF\":\"724920\",\"WBAN\":\"23237\",\"Station_Name_dropdown\":\"CA - Stockton/Metropolit\"},{\"Station_Name\":\"OAKLAND/METROP. OAK\",\"CTRY\":\"US\",\"STATE\":\"CA\",\"ShortName\":\"Oakland-\",\"USAF\":\"724930\",\"WBAN\":\"23230\",\"Station_Name_dropdown\":\"CA - Oakland/Metrop. Oak\"},{\"Station_Name\":\"SAN FRANCISCO INTL\",\"CTRY\":\"US\",\"STATE\":\"CA\",\"ShortName\":\"San-Francisco\",\"USAF\":\"724940\",\"WBAN\":\"23234\",\"Station_Name_dropdown\":\"CA - San Francisco Intl\"},{\"Station_Name\":\"NEWARK INTL AIRPORT\",\"CTRY\":\"US\",\"STATE\":\"NJ\",\"ShortName\":\"Newark\",\"USAF\":\"725020\",\"WBAN\":\"14734\",\"Station_Name_dropdown\":\"NJ - Newark Intl Airport\"},{\"Station_Name\":\"NEW YORK/LA GUARDIA\",\"CTRY\":\"US\",\"STATE\":\"NY\",\"ShortName\":\"New-York\",\"USAF\":\"725030\",\"WBAN\":\"14732\",\"Station_Name_dropdown\":\"NY - New York/La Guardia\"},{\"Station_Name\":\"PROVIDENCE/GREEN ST\",\"CTRY\":\"US\",\"STATE\":\"RI\",\"ShortName\":\"Providence\",\"USAF\":\"725070\",\"WBAN\":\"14765\",\"Station_Name_dropdown\":\"RI - Providence/Green St\"},{\"Station_Name\":\"HARTFORD BRAINARD\",\"CTRY\":\"US\",\"STATE\":\"CT\",\"ShortName\":\"Hartford\",\"USAF\":\"725087\",\"WBAN\":\"14752\",\"Station_Name_dropdown\":\"CT - Hartford Brainard\"},{\"Station_Name\":\"BOSTON/LOGAN INTL\",\"CTRY\":\"US\",\"STATE\":\"MA\",\"ShortName\":\"Boston\",\"USAF\":\"725090\",\"WBAN\":\"14739\",\"Station_Name_dropdown\":\"MA - Boston/Logan Intl\"},{\"Station_Name\":\"GREATER PITTSBURGH I\",\"CTRY\":\"US\",\"STATE\":\"PA\",\"ShortName\":\"Pittsburgh\",\"USAF\":\"725200\",\"WBAN\":\"94823\",\"Station_Name_dropdown\":\"PA - Greater Pittsburgh I\"},{\"Station_Name\":\"CLEVELAND\",\"CTRY\":\"US\",\"STATE\":\"OH\",\"ShortName\":\"Cleveland\",\"USAF\":\"725240\",\"WBAN\":\"14820\",\"Station_Name_dropdown\":\"OH - Cleveland\"},{\"Station_Name\":\"ROCHESTER-MONROE CO\",\"CTRY\":\"US\",\"STATE\":\"NY\",\"ShortName\":\"Rochester\",\"USAF\":\"725290\",\"WBAN\":\"14768\",\"Station_Name_dropdown\":\"NY - Rochester-Monroe Co\"},{\"Station_Name\":\"CHICAGO/O HARE ARPT\",\"CTRY\":\"US\",\"STATE\":\"IL\",\"ShortName\":\"Chicago\",\"USAF\":\"725300\",\"WBAN\":\"94846\",\"Station_Name_dropdown\":\"IL - Chicago/O Hare Arpt\"},{\"Station_Name\":\"FORT WAYNE/BAER FLD\",\"CTRY\":\"US\",\"STATE\":\"IN\",\"ShortName\":\"Fort-Wayne\",\"USAF\":\"725330\",\"WBAN\":\"14827\",\"Station_Name_dropdown\":\"IN - Fort Wayne/Baer Fld\"},{\"Station_Name\":\"TOLEDO EXPRESS\",\"CTRY\":\"US\",\"STATE\":\"OH\",\"ShortName\":\"Toledo\",\"USAF\":\"725360\",\"WBAN\":\"94830\",\"Station_Name_dropdown\":\"OH - Toledo Express\"},{\"Station_Name\":\"DETROIT CITY\",\"CTRY\":\"US\",\"STATE\":\"MI\",\"ShortName\":\"Detroit\",\"USAF\":\"725375\",\"WBAN\":\"14822\",\"Station_Name_dropdown\":\"MI - Detroit City\"},{\"Station_Name\":\"OMAHA/EPPLEY FIELD\",\"CTRY\":\"US\",\"STATE\":\"NE\",\"ShortName\":\"Omaha\",\"USAF\":\"725500\",\"WBAN\":\"14942\",\"Station_Name_dropdown\":\"NE - Omaha/Eppley Field\"},{\"Station_Name\":\"LINCOLN MUNICIPAL\",\"CTRY\":\"US\",\"STATE\":\"NE\",\"ShortName\":\"Lincoln\",\"USAF\":\"725510\",\"WBAN\":\"14939\",\"Station_Name_dropdown\":\"NE - Lincoln Municipal\"},{\"Station_Name\":\"SALT LAKE CITY INTL\",\"CTRY\":\"US\",\"STATE\":\"UT\",\"ShortName\":\"Salt-Lake\",\"USAF\":\"725720\",\"WBAN\":\"24127\",\"Station_Name_dropdown\":\"UT - Salt Lake City Intl\"},{\"Station_Name\":\"RIVERTON REGIONAL\",\"CTRY\":\"US\",\"STATE\":\"WY\",\"ShortName\":\"Riverton\",\"USAF\":\"725765\",\"WBAN\":\"24061\",\"Station_Name_dropdown\":\"WY - Riverton Regional\"},{\"Station_Name\":\"PORTLAND/INTNL. JET\",\"CTRY\":\"US\",\"STATE\":\"ME\",\"ShortName\":\"Portland\",\"USAF\":\"726060\",\"WBAN\":\"14764\",\"Station_Name_dropdown\":\"ME - Portland/Intnl. Jet\"},{\"Station_Name\":\"BURLINGTON INTL\",\"CTRY\":\"US\",\"STATE\":\"VT\",\"ShortName\":\"Burlington\",\"USAF\":\"726170\",\"WBAN\":\"14742\",\"Station_Name_dropdown\":\"VT - Burlington Intl\"},{\"Station_Name\":\"MILWAUKEE/GEN. MITC\",\"CTRY\":\"US\",\"STATE\":\"WI\",\"ShortName\":\"Milwaukee\",\"USAF\":\"726400\",\"WBAN\":\"14839\",\"Station_Name_dropdown\":\"WI - Milwaukee/Gen. Mitc\"},{\"Station_Name\":\"MADISON/DANE COUNTY\",\"CTRY\":\"US\",\"STATE\":\"WI\",\"ShortName\":\"Madison\",\"USAF\":\"726410\",\"WBAN\":\"14837\",\"Station_Name_dropdown\":\"WI - Madison/Dane County\"},{\"Station_Name\":\"MINNEAPOLIS/ST.PAUL\",\"CTRY\":\"US\",\"STATE\":\"MN\",\"ShortName\":\"Minneapolis\",\"USAF\":\"726580\",\"WBAN\":\"14922\",\"Station_Name_dropdown\":\"MN - Minneapolis/St.Paul\"},{\"Station_Name\":\"ST PAUL DOWNTOWN HO\",\"CTRY\":\"US\",\"STATE\":\"MN\",\"ShortName\":\"St-Paul\",\"USAF\":\"726584\",\"WBAN\":\"14927\",\"Station_Name_dropdown\":\"MN - St Paul Downtown Ho\"},{\"Station_Name\":\"ABERDEEN REGIONAL\",\"CTRY\":\"US\",\"STATE\":\"SD\",\"ShortName\":\"Aberdeen\",\"USAF\":\"726590\",\"WBAN\":\"14929\",\"Station_Name_dropdown\":\"SD - Aberdeen Regional\"},{\"Station_Name\":\"RAPID CITY/REGIONAL\",\"CTRY\":\"US\",\"STATE\":\"SD\",\"ShortName\":\"Rapid-City\",\"USAF\":\"726620\",\"WBAN\":\"24090\",\"Station_Name_dropdown\":\"SD - Rapid City/Regional\"},{\"Station_Name\":\"BOISE MUNICIPAL\",\"CTRY\":\"US\",\"STATE\":\"ID\",\"ShortName\":\"Boise\",\"USAF\":\"726810\",\"WBAN\":\"24131\",\"Station_Name_dropdown\":\"ID - Boise Municipal\"},{\"Station_Name\":\"PORTLAND INTL ARPT\",\"CTRY\":\"US\",\"STATE\":\"OR\",\"ShortName\":\"Portland\",\"USAF\":\"726980\",\"WBAN\":\"24229\",\"Station_Name_dropdown\":\"OR - Portland Intl Arpt\"},{\"Station_Name\":\"CASCADE LOCKS STATE\",\"CTRY\":\"US\",\"STATE\":\"OR\",\"ShortName\":\"Cascade-Locks\",\"USAF\":\"726987\",\"WBAN\":\"99999\",\"Station_Name_dropdown\":\"OR - Cascade Locks State\"},{\"Station_Name\":\"PRESQUE ISLE (AWOS)\",\"CTRY\":\"US\",\"STATE\":\"ME\",\"ShortName\":\"Presque-Isle\",\"USAF\":\"727130\",\"WBAN\":\"14604\",\"Station_Name_dropdown\":\"ME - Presque Isle (Awos)\"},{\"Station_Name\":\"BISMARCK MUNICIPAL\",\"CTRY\":\"US\",\"STATE\":\"ND\",\"ShortName\":\"Bismarck\",\"USAF\":\"727640\",\"WBAN\":\"24011\",\"Station_Name_dropdown\":\"ND - Bismarck Municipal\"},{\"Station_Name\":\"MISSOULA/JOHNSON-BE\",\"CTRY\":\"US\",\"STATE\":\"MT\",\"ShortName\":\"Missoula\",\"USAF\":\"727730\",\"WBAN\":\"24153\",\"Station_Name_dropdown\":\"MT - Missoula/Johnson-Be\"},{\"Station_Name\":\"KALISPELL/GLACIER P\",\"CTRY\":\"US\",\"STATE\":\"MT\",\"ShortName\":\"KalispellP\",\"USAF\":\"727790\",\"WBAN\":\"24146\",\"Station_Name_dropdown\":\"MT - Kalispell/Glacier P\"},{\"Station_Name\":\"YAKIMA AIR TERMINAL\",\"CTRY\":\"US\",\"STATE\":\"WA\",\"ShortName\":\"Yakima\",\"USAF\":\"727810\",\"WBAN\":\"24243\",\"Station_Name_dropdown\":\"WA - Yakima Air Terminal\"},{\"Station_Name\":\"STAMPEDE PASS\",\"CTRY\":\"US\",\"STATE\":\"WA\",\"ShortName\":\"Stampede-Pass\",\"USAF\":\"727815\",\"WBAN\":\"24237\",\"Station_Name_dropdown\":\"WA - Stampede Pass\"},{\"Station_Name\":\"EPHRATA MUNICIPAL\",\"CTRY\":\"US\",\"STATE\":\"WA\",\"ShortName\":\"Ephrata\",\"USAF\":\"727826\",\"WBAN\":\"24141\",\"Station_Name_dropdown\":\"WA - Ephrata Municipal\"},{\"Station_Name\":\"MOSES LAKE/GRANT CO\",\"CTRY\":\"US\",\"STATE\":\"WA\",\"ShortName\":\"Moses-Lake\",\"USAF\":\"727827\",\"WBAN\":\"24110\",\"Station_Name_dropdown\":\"WA - Moses Lake/Grant Co\"},{\"Station_Name\":\"HANFORD\",\"CTRY\":\"US\",\"STATE\":\"WA\",\"ShortName\":\"Hanford\",\"USAF\":\"727840\",\"WBAN\":\"99999\",\"Station_Name_dropdown\":\"WA - Hanford\"},{\"Station_Name\":\"TRI CITIES\",\"CTRY\":\"US\",\"STATE\":\"WA\",\"ShortName\":\"Tri-Cities\",\"USAF\":\"727845\",\"WBAN\":\"24163\",\"Station_Name_dropdown\":\"WA - Tri Cities\"},{\"Station_Name\":\"WALLA WALLA RGNL\",\"CTRY\":\"US\",\"STATE\":\"WA\",\"ShortName\":\"Walla-Walla\",\"USAF\":\"727846\",\"WBAN\":\"24160\",\"Station_Name_dropdown\":\"WA - Walla Walla Rgnl\"},{\"Station_Name\":\"SPOKANE INTL ARPT\",\"CTRY\":\"US\",\"STATE\":\"WA\",\"ShortName\":\"Spokane\",\"USAF\":\"727850\",\"WBAN\":\"24157\",\"Station_Name_dropdown\":\"WA - Spokane Intl Arpt\"},{\"Station_Name\":\"FAIRCHILD AFB\",\"CTRY\":\"US\",\"STATE\":\"WA\",\"ShortName\":\"Fairchild\",\"USAF\":\"727855\",\"WBAN\":\"24114\",\"Station_Name_dropdown\":\"WA - Fairchild Afb\"},{\"Station_Name\":\"FELTS FLD\",\"CTRY\":\"US\",\"STATE\":\"WA\",\"ShortName\":\"Felts-Fld\",\"USAF\":\"727856\",\"WBAN\":\"99999\",\"Station_Name_dropdown\":\"WA - Felts Fld\"},{\"Station_Name\":\"PULLMAN MOSCOW RGNL\",\"CTRY\":\"US\",\"STATE\":\"WA\",\"ShortName\":\"Pullman-Moscow\",\"USAF\":\"727857\",\"WBAN\":\"99999\",\"Station_Name_dropdown\":\"WA - Pullman Moscow Rgnl\"},{\"Station_Name\":\"WILLIAM R FAIRCHILD\",\"CTRY\":\"US\",\"STATE\":\"WA\",\"ShortName\":\"William-R-Fairchild\",\"USAF\":\"727885\",\"WBAN\":\"99999\",\"Station_Name_dropdown\":\"WA - William R Fairchild\"},{\"Station_Name\":\"OLYMPIA\",\"CTRY\":\"US\",\"STATE\":\"WA\",\"ShortName\":\"Olympia\",\"USAF\":\"727920\",\"WBAN\":\"24227\",\"Station_Name_dropdown\":\"WA - Olympia\"},{\"Station_Name\":\"BOWERMAN\",\"CTRY\":\"US\",\"STATE\":\"WA\",\"ShortName\":\"Bowerman\",\"USAF\":\"727923\",\"WBAN\":\"94225\",\"Station_Name_dropdown\":\"WA - Bowerman\"},{\"Station_Name\":\"ED CARLSON MEM FLD\",\"CTRY\":\"US\",\"STATE\":\"WA\",\"ShortName\":\"Ed-Carlson\",\"USAF\":\"727926\",\"WBAN\":\"99999\",\"Station_Name_dropdown\":\"WA - Ed Carlson Mem Fld\"},{\"Station_Name\":\"BREMERTON NATIONAL\",\"CTRY\":\"US\",\"STATE\":\"WA\",\"ShortName\":\"Bremerton\",\"USAF\":\"727928\",\"WBAN\":\"99999\",\"Station_Name_dropdown\":\"WA - Bremerton National\"},{\"Station_Name\":\"SEATTLE-TACOMA INTL\",\"CTRY\":\"US\",\"STATE\":\"WA\",\"ShortName\":\"Seattle-Tacoma\",\"USAF\":\"727930\",\"WBAN\":\"24233\",\"Station_Name_dropdown\":\"WA - Seattle-Tacoma Intl\"},{\"Station_Name\":\"RENTON MUNI\",\"CTRY\":\"US\",\"STATE\":\"WA\",\"ShortName\":\"Renton\",\"USAF\":\"727934\",\"WBAN\":\"99999\",\"Station_Name_dropdown\":\"WA - Renton Muni\"},{\"Station_Name\":\"BOEING FLD KING CO\",\"CTRY\":\"US\",\"STATE\":\"WA\",\"ShortName\":\"Boeing-Fld\",\"USAF\":\"727935\",\"WBAN\":\"24234\",\"Station_Name_dropdown\":\"WA - Boeing Fld King Co\"},{\"Station_Name\":\"SNOHOMISH CO\",\"CTRY\":\"US\",\"STATE\":\"WA\",\"ShortName\":\"Snohomish\",\"USAF\":\"727937\",\"WBAN\":\"99999\",\"Station_Name_dropdown\":\"WA - Snohomish Co\"},{\"Station_Name\":\"TACOMA NARROWS\",\"CTRY\":\"US\",\"STATE\":\"WA\",\"ShortName\":\"Tacoma-Narrows\",\"USAF\":\"727938\",\"WBAN\":\"99999\",\"Station_Name_dropdown\":\"WA - Tacoma Narrows\"},{\"Station_Name\":\"QUILLAYUTE\",\"CTRY\":\"US\",\"STATE\":\"WA\",\"ShortName\":\"Quillayute\",\"USAF\":\"727970\",\"WBAN\":\"94240\",\"Station_Name_dropdown\":\"WA - Quillayute\"},{\"Station_Name\":\"BELLINGHAM INTL\",\"CTRY\":\"US\",\"STATE\":\"WA\",\"ShortName\":\"Bellingham\",\"USAF\":\"727976\",\"WBAN\":\"24217\",\"Station_Name_dropdown\":\"WA - Bellingham Intl\"},{\"Station_Name\":\"MC CHORD FIELD\",\"CTRY\":\"US\",\"STATE\":\"WA\",\"ShortName\":\"Mc-Chord-Field\",\"USAF\":\"742060\",\"WBAN\":\"24207\",\"Station_Name_dropdown\":\"WA - Mc Chord Field\"},{\"Station_Name\":\"GRAY AAF\",\"CTRY\":\"US\",\"STATE\":\"WA\",\"ShortName\":\"Gray-Aaf\",\"USAF\":\"742070\",\"WBAN\":\"24201\",\"Station_Name_dropdown\":\"WA - Gray Aaf\"},{\"Station_Name\":\"MANCHESTER\",\"CTRY\":\"US\",\"STATE\":\"NH\",\"ShortName\":\"Manchester\",\"USAF\":\"743945\",\"WBAN\":\"14710\",\"Station_Name_dropdown\":\"NH - Manchester\"},{\"Station_Name\":\"MOUNTAIN VIEW /SUNN\",\"CTRY\":\"US\",\"STATE\":\"CA\",\"ShortName\":\"Mountain-View\",\"USAF\":\"745090\",\"WBAN\":\"23244\",\"Station_Name_dropdown\":\"CA - Mountain View /Sunn\"},{\"Station_Name\":\"MACDILL AFB/TAMPA\",\"CTRY\":\"US\",\"STATE\":\"FL\",\"ShortName\":\"Tampa\",\"USAF\":\"747880\",\"WBAN\":\"12810\",\"Station_Name_dropdown\":\"FL - Macdill Afb/Tampa\"},{\"Station_Name\":\"CANCUN INTL\",\"CTRY\":\"MX\",\"STATE\":\"NaN\",\"ShortName\":\"Cancun\",\"USAF\":\"765906\",\"WBAN\":\"99999\",\"Station_Name_dropdown\":\"MX - Cancun Intl\"},{\"Station_Name\":\"MEXICO CITY\",\"CTRY\":\"MX\",\"STATE\":\"NaN\",\"ShortName\":\"Mexico-City\",\"USAF\":\"766800\",\"WBAN\":\"99999\",\"Station_Name_dropdown\":\"MX - Mexico City\"},{\"Station_Name\":\"IXTAPA ZIHUATANEJO\",\"CTRY\":\"MX\",\"STATE\":\"NaN\",\"ShortName\":\"Ixtapa-Zihuatanejo\",\"USAF\":\"767584\",\"WBAN\":\"99999\",\"Station_Name_dropdown\":\"MX - Ixtapa Zihuatanejo\"},{\"Station_Name\":\"OAXACA\",\"CTRY\":\"MX\",\"STATE\":\"NaN\",\"ShortName\":\"Oaxaca\",\"USAF\":\"767750\",\"WBAN\":\"99999\",\"Station_Name_dropdown\":\"MX - Oaxaca\"},{\"Station_Name\":\"BOGOTA/ELDORADO\",\"CTRY\":\"CO\",\"STATE\":\"NaN\",\"ShortName\":\"Bogota\",\"USAF\":\"802220\",\"WBAN\":\"99999\",\"Station_Name_dropdown\":\"CO - Bogota/Eldorado\"},{\"Station_Name\":\"CARACAS/LA CARLOTA\",\"CTRY\":\"VN\",\"STATE\":\"NaN\",\"ShortName\":\"Caracas\",\"USAF\":\"804160\",\"WBAN\":\"99999\",\"Station_Name_dropdown\":\"VN - Caracas/La Carlota\"},{\"Station_Name\":\"RIO DE JANEIRO /AER\",\"CTRY\":\"BZ\",\"STATE\":\"NaN\",\"ShortName\":\"Rio-De-Janeiro\",\"USAF\":\"837550\",\"WBAN\":\"99999\",\"Station_Name_dropdown\":\"BZ - Rio De Janeiro /Aer\"},{\"Station_Name\":\"SAO PAULO /AEROPORT\",\"CTRY\":\"BZ\",\"STATE\":\"NaN\",\"ShortName\":\"Sao-Paulo\",\"USAF\":\"837800\",\"WBAN\":\"99999\",\"Station_Name_dropdown\":\"BZ - Sao Paulo /Aeroport\"},{\"Station_Name\":\"HONOLULU INTL\",\"CTRY\":\"US\",\"STATE\":\"HI\",\"ShortName\":\"Honolulu\",\"USAF\":\"911820\",\"WBAN\":\"22521\",\"Station_Name_dropdown\":\"HI - Honolulu Intl\"},{\"Station_Name\":\"HILO INTL\",\"CTRY\":\"US\",\"STATE\":\"HI\",\"ShortName\":\"Hilo\",\"USAF\":\"912850\",\"WBAN\":\"21504\",\"Station_Name_dropdown\":\"HI - Hilo Intl\"},{\"Station_Name\":\"SYDNEY (OB HILL)\",\"CTRY\":\"AU\",\"STATE\":\"NaN\",\"ShortName\":\"Sydney\",\"USAF\":\"947680\",\"WBAN\":\"99999\",\"Station_Name_dropdown\":\"AU - Sydney (Ob Hill)\"},{\"Station_Name\":\"MELBOURNE\",\"CTRY\":\"AU\",\"STATE\":\"NaN\",\"ShortName\":\"Melbourne\",\"USAF\":\"948680\",\"WBAN\":\"99999\",\"Station_Name_dropdown\":\"AU - Melbourne\"},{\"Station_Name\":\"JAKARTA/SOEKARNO-HA\",\"CTRY\":\"ID\",\"STATE\":\"NaN\",\"ShortName\":\"Jakarta\",\"USAF\":\"967490\",\"WBAN\":\"99999\",\"Station_Name_dropdown\":\"ID - Jakarta/Soekarno-Ha\"},{\"Station_Name\":\"MANILA\",\"CTRY\":\"PH\",\"STATE\":\"NaN\",\"ShortName\":\"Manila\",\"USAF\":\"984250\",\"WBAN\":\"99999\",\"Station_Name_dropdown\":\"PH - Manila\"},{\"Station_Name\":\"CHESAPEAKE\",\"CTRY\":\"US\",\"STATE\":\"VA\",\"ShortName\":\"Chesapeake\",\"USAF\":\"994020\",\"WBAN\":\"99999\",\"Station_Name_dropdown\":\"VA - Chesapeake\"},{\"Station_Name\":\"DESTRUCTION ISLAND\",\"CTRY\":\"US\",\"STATE\":\"WA\",\"ShortName\":\"Destruction-Island\",\"USAF\":\"994070\",\"WBAN\":\"99999\",\"Station_Name_dropdown\":\"WA - Destruction Island\"},{\"Station_Name\":\"SMITH ISLAND\",\"CTRY\":\"US\",\"STATE\":\"WA\",\"ShortName\":\"Smith-Island\",\"USAF\":\"994180\",\"WBAN\":\"99999\",\"Station_Name_dropdown\":\"WA - Smith Island\"},{\"Station_Name\":\"TATOOSH ISLAND\",\"CTRY\":\"US\",\"STATE\":\"WA\",\"ShortName\":\"Tatoosh-Island\",\"USAF\":\"994300\",\"WBAN\":\"99999\",\"Station_Name_dropdown\":\"WA - Tatoosh Island\"},{\"Station_Name\":\"WEST POINT (LS)\",\"CTRY\":\"US\",\"STATE\":\"WA\",\"ShortName\":\"West-Point\",\"USAF\":\"994350\",\"WBAN\":\"99999\",\"Station_Name_dropdown\":\"WA - West Point (Ls)\"}]')\n",
      "\n",
      "TIMEOUT_QUEUE=30 # Should be shorter, since a pool worker just needs to wait for itself to finish.\n",
      "CHROME=webdriver.common.desired_capabilities.DesiredCapabilities.CHROME\n",
      "import requests\n",
      "from bs4 import BeautifulSoup"
     ],
     "language": "python",
     "metadata": {},
     "outputs": []
    },
    {
     "cell_type": "code",
     "collapsed": false,
     "input": [
      "r=requests.get('https://news.ycombinator.com')\n",
      "page_source=r.content\n"
     ],
     "language": "python",
     "metadata": {},
     "outputs": []
    },
    {
     "cell_type": "code",
     "collapsed": false,
     "input": [
      "def mymatch(regex, str, groupNum=1, retType=None):\n",
      "    match=re.match(regex, str)\n",
      "    if match:\n",
      "        return match.group(groupNum)\n",
      "    else:\n",
      "        if retType=='empty_string':\n",
      "            return ''\n",
      "        elif retType=='zero_string':\n",
      "            return '0'\n",
      "        else:\n",
      "            return str\n",
      "\n",
      "def asInt(str):\n",
      "    try:\n",
      "        return int(str)\n",
      "    except:\n",
      "        return str\n",
      "    \n",
      "def processArticleTitle(html):\n",
      "    try:\n",
      "        d={}\n",
      "        tds=html.contents\n",
      "        if len(tds) != 3:\n",
      "            raise Exception('Unexpected number of tds in article body: {0}. Expected 3. Body: \\n{1}'.format(len(tds), html))\n",
      "        \n",
      "        d['rank']=asInt(mymatch('([0-9]*)\\.', tds[0].text))\n",
      "        if tds[1].a: # Jobs have empty tds[1]\n",
      "            d['id']=mymatch('up_([0-9]*)',tds[1].a.attrs['id'])\n",
      "            \n",
      "        d['title']=tds[2].a.text\n",
      "        d['href']=tds[2].a.attrs['href']\n",
      "        if tds[2].span:\n",
      "            d['domain']=str(mymatch(' *\\(([^)]*)\\) *', tds[2].span.text))\n",
      "    except Exception as e:\n",
      "        print 'Error:\\n{0}\\n{1}'.format(e, html)\n",
      "        \n",
      "    return d\n",
      "\n",
      "\n",
      "def processArticlePoints(html):\n",
      "    try:\n",
      "        d={}\n",
      "        tds=html.contents\n",
      "        if len(tds) != 2:\n",
      "            raise Exception('Unexpected number of tds in article points line: {0}. Expected 2. Body: \\n{1}'.format(len(tds), html))\n",
      "        \n",
      "        if tds[1].span: # jobs have no points\n",
      "            d['points']=asInt(mymatch('([0-9]*) points',tds[1].span.text))\n",
      "            d['author']=mymatch('user\\?id=(.*)',tds[1].find_all('a')[0].attrs['href'])\n",
      "            d['comments']=asInt(mymatch('([0-9]*) comments', tds[1].find_all('a')[1].text, retType='zero_string')) # 'Discuss' has no comments\n",
      "    except Exception as e:\n",
      "        print 'Error:\\n{0}\\n{1}'.format(e, html)\n",
      "    \n",
      "    return d\n",
      "\n",
      "def processHNPage(html):\n",
      "    soup = BeautifulSoup(html)\n",
      "    tbl2 = soup.find_all('table')[2]\n",
      "    trs=tbl2.find_all('tr')\n",
      "    \n",
      "    if len(trs) != 92:\n",
      "        raise Exception('Unexpected length of main body: {0} (expected 92)'.format(len(trs)))\n",
      "    \n",
      "\n",
      "    articles=[]\n",
      "    for i in range(30):\n",
      "        res0 = processArticleTitle(trs[i*3])\n",
      "        res1 = processArticlePoints(trs[i*3+1])\n",
      "        # Skip tr[2] - just a spacer\n",
      "        res0.update(res1)\n",
      "        res0['pagerow']=i\n",
      "        articles.append(res0)\n",
      "        \n",
      "    if not trs[91].find('a').text=='More':\n",
      "        raise Exception('No More on page. trs[91]: {0}'.format(trs[91].prettify()))\n",
      "    else:\n",
      "        more=trs[91].find('a').attrs['href']\n",
      "        \n",
      "    return articles, more, soup\n",
      "\n",
      "html=page_source\n",
      "articles, more, soup=processHNPage(html)\n",
      "print 'More: ', more\n",
      "pprint(articles)\n",
      "\n",
      "    \n",
      "    "
     ],
     "language": "python",
     "metadata": {},
     "outputs": []
    },
    {
     "cell_type": "code",
     "collapsed": false,
     "input": [
      "import json"
     ],
     "language": "python",
     "metadata": {},
     "outputs": []
    },
    {
     "cell_type": "code",
     "collapsed": false,
     "input": [
      "from urlparse import urljoin"
     ],
     "language": "python",
     "metadata": {},
     "outputs": []
    },
    {
     "cell_type": "code",
     "collapsed": false,
     "input": [
      "from urlparse import urljoin\n",
      "urljoin('http://news.ycombinator.com', '/xyz')"
     ],
     "language": "python",
     "metadata": {},
     "outputs": []
    },
    {
     "cell_type": "code",
     "collapsed": false,
     "input": [
      "print trs[91]\n",
      "\n",
      "res=trs[91].find_all('a')\n",
      "print res[0].text\n",
      "# if not re.match('More',trs[91].find('a').attr('href').text):\n",
      "#     print 'ERROR'"
     ],
     "language": "python",
     "metadata": {},
     "outputs": []
    },
    {
     "cell_type": "code",
     "collapsed": false,
     "input": [],
     "language": "python",
     "metadata": {},
     "outputs": []
    },
    {
     "cell_type": "code",
     "collapsed": false,
     "input": [
      "text='''[{\"domain\": \"google.com\", \"pageDepth\": 1, \"title\": \"Gmail was down\", \"timestamp\": 1390612439.105061, \"author\": \"d1egoaz\", \"rank\": 1, \"href\": \"http://www.google.com/appsstatus#hl=en&v=status&ts=1390590318542\", \"comments\": 398, \"pageName\": \"http://news.ycombinator.com/\", \"pagerow\": 0, \"id\": \"7116764\", \"points\": 783}, {\"domain\": \"techcrunch.com\", \"pageDepth\": 1, \"title\": \"Gmail Glitch Is Causing 1000s Of Emails To Be Sent To One Man\\u2019s Hotmail Account\", \"timestamp\": 1390612439.105061, \"author\": \"coloneltcb\", \"rank\": 2, \"href\": \"http://techcrunch.com/2014/01/24/gmail-glitch-is-causing-thousands-of-emails-to-be-sent-to-one-mans-hotmail-account/\", \"comments\": 112, \"pageName\": \"http://news.ycombinator.com/\", \"pagerow\": 1, \"id\": \"7117697\", \"points\": 230}, {\"domain\": \"mondrian.io\", \"pageDepth\": 1, \"title\": \"Show HN: I open-sourced my web app alternative to Illustrator\", \"timestamp\": 1390612439.105061, \"author\": \"artursapek\", \"rank\": 3, \"href\": \"http://mondrian.io/contributing\", \"comments\": 71, \"pageName\": \"http://news.ycombinator.com/\", \"pagerow\": 2, \"id\": \"7116042\", \"points\": 393}, {\"domain\": \"nbcnews.com\", \"pageDepth\": 1, \"title\": \"Bill Gates loses to Magnus Carlsen in 9 moves\", \"timestamp\": 1390612439.105061, \"author\": \"prateekj\", \"rank\": 4, \"href\": \"http://www.nbcnews.com/technology/bill-gates-loses-9-moves-chess-champion-2D11988269\", \"comments\": 104, \"pageName\": \"http://news.ycombinator.com/\", \"pagerow\": 3, \"id\": \"7117725\", \"points\": 156}, {\"domain\": \"slate.com\", \"pageDepth\": 1, \"title\": \"The hardest computer game of all time\", \"timestamp\": 1390612439.105061, \"author\": \"tptacek\", \"rank\": 5, \"href\": \"http://www.slate.com/articles/technology/bitwise/2014/01/robot_odyssey_the_hardest_computer_game_of_all_time.html\", \"comments\": 8, \"pageName\": \"http://news.ycombinator.com/\", \"pagerow\": 4, \"id\": \"7118649\", \"points\": 51}, {\"domain\": \"justinjackson.ca\", \"pageDepth\": 1, \"title\": \"Where do you find the time for side projects?\", \"timestamp\": 1390612439.105061, \"author\": \"mijustin\", \"rank\": 6, \"href\": \"http://justinjackson.ca/where-do-you-find-the-time-for-side-projects/\", \"comments\": 91, \"pageName\": \"http://news.ycombinator.com/\", \"pagerow\": 5, \"id\": \"7117131\", \"points\": 130}, {\"domain\": \"joystiq.com\", \"pageDepth\": 1, \"title\": \"UK porn filter blocks League of Legends update\", \"timestamp\": 1390612439.105061, \"author\": \"JacksonGariety\", \"rank\": 7, \"href\": \"http://www.joystiq.com/2014/01/24/uk-porn-filter-blocks-league-of-legends-update-for-sex-in-file/\", \"comments\": 66, \"pageName\": \"http://news.ycombinator.com/\", \"pagerow\": 6, \"id\": \"7116328\", \"points\": 142}, {\"domain\": \"cornell.edu\", \"pageDepth\": 1, \"title\": \"Young 'pranksters' skewed landmark sexuality study\", \"timestamp\": 1390612439.105061, \"author\": \"pavel_lishin\", \"rank\": 8, \"href\": \"http://www.news.cornell.edu/stories/2014/01/young-pranksters-skewed-landmark-sexuality-study\", \"comments\": 27, \"pageName\": \"http://news.ycombinator.com/\", \"pagerow\": 7, \"id\": \"7118579\", \"points\": 33}, {\"domain\": \"techcrunch.com\", \"pageDepth\": 1, \"title\": \"Google\\u2019s Reliability Team Sat Down for an AMA Right Before Gmail Exploded\", \"timestamp\": 1390612439.105061, \"author\": \"shasa\", \"rank\": 9, \"href\": \"http://techcrunch.com/2014/01/24/talk-about-timing-googles-reliability-team-sat-down-for-an-ama-right-as-gmail-exploded/\", \"comments\": 22, \"pageName\": \"http://news.ycombinator.com/\", \"pagerow\": 8, \"id\": \"7117983\", \"points\": 69}, {\"domain\": \"junkyardsam.com\", \"pageDepth\": 1, \"title\": \"King.com, makers of Candy Crush Saga \\u2013\\u00a0Trademark Trolls with a Double Standard?\", \"timestamp\": 1390612439.105061, \"author\": \"bpierre\", \"rank\": 10, \"href\": \"http://junkyardsam.com/kingcopied/#\", \"comments\": 205, \"pageName\": \"http://news.ycombinator.com/\", \"pagerow\": 9, \"id\": \"7114291\", \"points\": 465}, {\"domain\": \"survata.com\", \"pageDepth\": 1, \"title\": \"Snapchat usage triples among teens in the last year\", \"timestamp\": 1390612439.105061, \"author\": \"southkey\", \"rank\": 11, \"href\": \"http://survata.com/survey-dashboard/shared/5JM962YV\", \"comments\": 12, \"pageName\": \"http://news.ycombinator.com/\", \"pagerow\": 10, \"id\": \"7118414\", \"points\": 24}, {\"domain\": \"abcoin.net\", \"pageDepth\": 1, \"title\": \"Why Dogecoin is Important\", \"timestamp\": 1390612439.105061, \"author\": \"bdr\", \"rank\": 12, \"href\": \"http://www.abcoin.net/post/74401339267/why-dogecoin-is-important\", \"comments\": 48, \"pageName\": \"http://news.ycombinator.com/\", \"pagerow\": 11, \"id\": \"7116517\", \"points\": 91}, {\"domain\": \"wsj.com\", \"pageDepth\": 1, \"title\": \"How Real is \\u2018Her\\u2019? Artificial Intelligence Experts Weigh In\", \"timestamp\": 1390612439.105061, \"author\": \"anigbrowl\", \"rank\": 13, \"href\": \"http://blogs.wsj.com/speakeasy/2014/01/24/how-real-is-spike-jonzes-her-artificial-intelligence-experts-weigh-in/?mod=WSJ_hppMIDDLENexttoWhatsNewsSecond\", \"comments\": 38, \"pageName\": \"http://news.ycombinator.com/\", \"pagerow\": 12, \"id\": \"7117974\", \"points\": 34}, {\"domain\": \"algolia.io\", \"pageDepth\": 1, \"title\": \"HN Search Updated\", \"timestamp\": 1390612439.105061, \"author\": \"fjk\", \"rank\": 14, \"href\": \"https://hn.algolia.io/\", \"comments\": 41, \"pageName\": \"http://news.ycombinator.com/\", \"pagerow\": 13, \"id\": \"7118496\", \"points\": 42}, {\"domain\": \"booksuperhost.com\", \"pageDepth\": 1, \"title\": \"Surviving Hosting On Airbnb When On Vacation\", \"timestamp\": 1390612439.105061, \"author\": \"amiadsoto\", \"rank\": 15, \"href\": \"http://blog.booksuperhost.com/surviving-hosting-airbnb-vacation/\", \"comments\": 8, \"pageName\": \"http://news.ycombinator.com/\", \"pagerow\": 14, \"id\": \"7118342\", \"points\": 22}, {\"domain\": \"nytimes.com\", \"pageDepth\": 1, \"title\": \"Personal Computers \\u2013 Hardware Review \\u2013 Apple Weighs in With Macintosh (1984)\", \"timestamp\": 1390612439.105061, \"author\": \"bananacurve\", \"rank\": 16, \"href\": \"http://www.nytimes.com/1984/01/24/science/personal-computers-hardware-review-apple-weighs-in-with-macintosh.html?smid=fb-nytimes&WT.z_sma=SC_PCH_20140124&bicmp=AD&bicmlukp=WT.mc_id&bicmst=1388552400000&bicmet=1420088400000\", \"comments\": 4, \"pageName\": \"http://news.ycombinator.com/\", \"pagerow\": 15, \"id\": \"7117644\", \"points\": 34}, {\"domain\": \"periscope.io\", \"pageDepth\": 1, \"title\": \"Use SQL subqueries to count distinct 50x faster\", \"timestamp\": 1390612439.105061, \"author\": \"toong\", \"rank\": 17, \"href\": \"https://periscope.io/blog/use-subqueries-to-count-distinct-50x-faster.html\", \"comments\": 77, \"pageName\": \"http://news.ycombinator.com/\", \"pagerow\": 16, \"id\": \"7114310\", \"points\": 221}, {\"domain\": \"msdn.com\", \"pageDepth\": 1, \"title\": \"Reduced Pricing on Azure Storage - Price Matching Amazon Web Services\", \"timestamp\": 1390612439.105061, \"author\": \"vyrotek\", \"rank\": 18, \"href\": \"http://blogs.msdn.com/b/windowsazure/archive/2014/01/24/storage-price-match.aspx\", \"comments\": 9, \"pageName\": \"http://news.ycombinator.com/\", \"pagerow\": 17, \"id\": \"7118990\", \"points\": 8}, {\"domain\": \"nature.com\", \"pageDepth\": 1, \"title\": \"Stephen Hawking: 'There are no black holes'\", \"timestamp\": 1390612439.105061, \"author\": \"mrfusion\", \"rank\": 19, \"href\": \"http://www.nature.com/news/stephen-hawking-there-are-no-black-holes-1.14583\", \"comments\": 107, \"pageName\": \"http://news.ycombinator.com/\", \"pagerow\": 18, \"id\": \"7114913\", \"points\": 156}, {\"domain\": \"jquery.com\", \"pageDepth\": 1, \"title\": \"JQuery 1.11 and 2.1 Released\", \"timestamp\": 1390612439.105061, \"author\": \"cleverjake\", \"rank\": 20, \"href\": \"http://blog.jquery.com/2014/01/24/jquery-1-11-and-2-1-released/\", \"comments\": 32, \"pageName\": \"http://news.ycombinator.com/\", \"pagerow\": 19, \"id\": \"7115195\", \"points\": 106}, {\"domain\": \"cnn.com\", \"pageDepth\": 1, \"title\": \"Uber rival accuses car service of dirty tactics\", \"timestamp\": 1390612439.105061, \"author\": \"JimWillTri\", \"rank\": 21, \"href\": \"http://money.cnn.com/2014/01/24/technology/social/uber-gett/\", \"comments\": 192, \"pageName\": \"http://news.ycombinator.com/\", \"pagerow\": 20, \"id\": \"7115177\", \"points\": 202}, {\"domain\": \"craigkerstiens.com\", \"pageDepth\": 1, \"title\": \"Rethinking the limits on relational databases\", \"timestamp\": 1390612439.105061, \"author\": \"ninthfrank07\", \"rank\": 22, \"href\": \"http://www.craigkerstiens.com/2014/01/24/rethinking-limits-on-relational/\", \"comments\": 9, \"pageName\": \"http://news.ycombinator.com/\", \"pagerow\": 21, \"id\": \"7118117\", \"points\": 21}, {\"domain\": \"facebook.com\", \"pageDepth\": 1, \"title\": \"Debunking Princeton\", \"timestamp\": 1390612439.105061, \"author\": \"friggeri\", \"rank\": 23, \"href\": \"https://www.facebook.com/notes/mike-develin/debunking-princeton/10151947421191849\", \"comments\": 136, \"pageName\": \"http://news.ycombinator.com/\", \"pagerow\": 22, \"id\": \"7111627\", \"points\": 695}, {\"domain\": \"pando.com\", \"pageDepth\": 1, \"title\": \"How Silicon Valley CEOs conspired to drive down tech engineer wages\", \"timestamp\": 1390612439.105061, \"author\": \"uptown\", \"rank\": 24, \"href\": \"http://pando.com/2014/01/23/the-techtopus-how-silicon-valleys-most-celebrated-ceos-conspired-to-drive-down-100000-tech-engineers-wages/\", \"comments\": 422, \"pageName\": \"http://news.ycombinator.com/\", \"pagerow\": 23, \"id\": \"7111531\", \"points\": 660}, {\"domain\": \"apple.com\", \"pageDepth\": 1, \"title\": \"Thirty Years of Mac [video]\", \"timestamp\": 1390612439.105061, \"author\": \"lukeman\", \"rank\": 25, \"href\": \"https://www.apple.com/30-years/\", \"comments\": 163, \"pageName\": \"http://news.ycombinator.com/\", \"pagerow\": 24, \"id\": \"7114144\", \"points\": 206}, {\"domain\": \"ifixit.com\", \"pageDepth\": 1, \"title\": \"Macintosh 128K Teardown\", \"timestamp\": 1390612439.105061, \"author\": \"kjhughes\", \"rank\": 26, \"href\": \"http://www.ifixit.com/Teardown/Macintosh+128K+Teardown/21422\", \"comments\": 33, \"pageName\": \"http://news.ycombinator.com/\", \"pagerow\": 25, \"id\": \"7115134\", \"points\": 74}, {\"domain\": \"apachefriends.org\", \"pageDepth\": 1, \"title\": \"New XAMPP / Apache Friends site released\", \"timestamp\": 1390612439.105061, \"author\": \"ridruejo\", \"rank\": 27, \"href\": \"http://apachefriends.org\", \"comments\": 19, \"pageName\": \"http://news.ycombinator.com/\", \"pagerow\": 26, \"id\": \"7116880\", \"points\": 29}, {\"domain\": \"wired.com\", \"pageDepth\": 1, \"title\": \"The Macintosh Is 30, and I Was There for Its Birth\", \"timestamp\": 1390612439.105061, \"author\": \"sonabinu\", \"rank\": 28, \"href\": \"http://www.wired.com/wiredenterprise/2014/01/macintosh-30th-anniversary/\", \"comments\": 0, \"pageName\": \"http://news.ycombinator.com/\", \"pagerow\": 27, \"id\": \"7116640\", \"points\": 31}, {\"domain\": \"aisle50.com\", \"pageDepth\": 1, \"title\": \"Aisle50 (YC S11) is hiring a junior UX/graphic designer\", \"timestamp\": 1390612439.105061, \"rank\": 29, \"href\": \"https://aisle50.com/jobs\", \"pageName\": \"http://news.ycombinator.com/\", \"pagerow\": 28}, {\"domain\": \"techcrunch.com\", \"pageDepth\": 1, \"title\": \"Balanced (YC W11) takes product development to the next level with crowdfunding\", \"timestamp\": 1390612439.105061, \"author\": \"steveklabnik\", \"rank\": 30, \"href\": \"http://techcrunch.com/2014/01/24/balanced-crowdfunding-product-development/\", \"comments\": 0, \"pageName\": \"http://news.ycombinator.com/\", \"pagerow\": 29, \"id\": \"7118142\", \"points\": 14}]'''"
     ],
     "language": "python",
     "metadata": {},
     "outputs": []
    },
    {
     "cell_type": "code",
     "collapsed": false,
     "input": [
      "len(text)"
     ],
     "language": "python",
     "metadata": {},
     "outputs": []
    },
    {
     "cell_type": "code",
     "collapsed": false,
     "input": [
      "import couchdb\n",
      "couch=couchdb.Server('https://rrosen326.cloudant.com')\n",
      "couch.resource.credentials=('matenedidearandisturpetw', '23pmLFJvWa0XhQ8mWxDxlElP')\n",
      "db=couch['hackernews']"
     ],
     "language": "python",
     "metadata": {},
     "outputs": []
    },
    {
     "cell_type": "code",
     "collapsed": false,
     "input": [
      "db.info()"
     ],
     "language": "python",
     "metadata": {},
     "outputs": []
    },
    {
     "cell_type": "code",
     "collapsed": false,
     "input": [
      "recs=json.loads(text)\n",
      "results = db.update(recs)\n",
      "numSuccess=sum([success for (success, docid, rev_or_exc) in results])\n",
      "\n"
     ],
     "language": "python",
     "metadata": {},
     "outputs": [],
     "prompt_number": 34
    },
    {
     "cell_type": "code",
     "collapsed": false,
     "input": [
      "COUCH_SERVER='https://rrosen326.cloudant.com'\n",
      "COUCH_UN='matenedidearandisturpetw'\n",
      "COUCH_PW='23pmLFJvWa0XhQ8mWxDxlElP'\n",
      "COUCH_DB='hackernews'\n",
      "couch=couchdb.Server(COUCH_SERVER)\n",
      "couch.resource.credentials=(COUCH_UN, COUCH_PW)\n",
      "db=couch[COUCH_DB]\n",
      "test=db.info()  # Test connection before catching exceptions."
     ],
     "language": "python",
     "metadata": {},
     "outputs": [],
     "prompt_number": 31
    },
    {
     "cell_type": "code",
     "collapsed": false,
     "input": [
      "len('''{\n",
      "  \"_id\": \"00f689967cd9b54898578496e83b3f08\",\n",
      "  \"_rev\": \"1-0697a4b5f07c744693b8e6c3b9329e50\",\n",
      "  \"domain\": \"bbc.co.uk\",\n",
      "  \"pageDepth\": 0,\n",
      "  \"author\": \"chestnut-tree\",\n",
      "  \"timestamp\": 1390654161.426239,\n",
      "  \"title\": \"Genetically-modified purple tomatoes heading for shops\",\n",
      "  \"rank\": 31,\n",
      "  \"href\": \"http://www.bbc.co.uk/news/science-environment-25885756\",\n",
      "  \"comments\": 0,\n",
      "  \"pageName\": \"http://news.ycombinator.com\",\n",
      "  \"pagerow\": 0,\n",
      "  \"points\": \"1 point\"\n",
      "}''')"
     ],
     "language": "python",
     "metadata": {},
     "outputs": [
      {
       "metadata": {},
       "output_type": "pyout",
       "prompt_number": 39,
       "text": [
        "453"
       ]
      }
     ],
     "prompt_number": 39
    },
    {
     "cell_type": "code",
     "collapsed": false,
     "input": [],
     "language": "python",
     "metadata": {},
     "outputs": []
    }
   ],
   "metadata": {}
  }
 ]
}